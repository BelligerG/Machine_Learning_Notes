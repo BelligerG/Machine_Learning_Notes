{
 "cells": [
  {
   "cell_type": "code",
   "execution_count": 53,
   "id": "5995dba4",
   "metadata": {},
   "outputs": [],
   "source": [
    "import matplotlib.pyplot as plt\n",
    "import numpy as np"
   ]
  },
  {
   "cell_type": "code",
   "execution_count": 114,
   "id": "94c3ea56",
   "metadata": {},
   "outputs": [],
   "source": [
    "class Perceptron:\n",
    "\n",
    "    def __init__(self, learning_rate=0.01, n_iters=10000):\n",
    "        self.lr = learning_rate\n",
    "        self.n_iters = n_iters\n",
    "        self.weights = None\n",
    "        self.bias = None\n",
    "        self.y = None\n",
    "\n",
    "    def fit(self, X, y):\n",
    "        \"\"\" Fit the data. \"\"\"\n",
    "        n_features = X.shape[1]\n",
    "\n",
    "        # init parameters\n",
    "        self.weights = np.zeros(n_features)\n",
    "        self.bias = 0\n",
    "\n",
    "        # Can only fit 2 classes, so make these binary\n",
    "        self.y = y.astype(bool)\n",
    "\n",
    "        for _ in range(self.n_iters):\n",
    "            self._update_parameters(X)\n",
    "            \n",
    "    def _update_parameters(self, X):\n",
    "        \"\"\" Updates the weights and bias. \"\"\"\n",
    "        linear_output = self._calculate_linear_output(X)\n",
    "        y_predicted = self._apply_step_func(linear_output)\n",
    "\n",
    "        update = self.lr * (self.y - y_predicted)\n",
    "\n",
    "        # Calculate the gradients of the weights and bias\n",
    "        dw = X.T.dot(update)\n",
    "        db = update.sum() \n",
    "\n",
    "        self.weights += dw*self.lr / X.shape[1]\n",
    "        self.bias += db*self.lr / X.shape[1]\n",
    "        \n",
    "    def predict(self, X):\n",
    "        \"\"\" Predicts the values of X. \"\"\"\n",
    "        linear_output = self._calculate_linear_output(X)\n",
    "        return self._apply_step_func(linear_output)\n",
    "        \n",
    "    def _calculate_linear_output(self, X):\n",
    "        \"\"\" Calculates the values of X when multiplied by the weights \n",
    "        and adding the bias. \"\"\"\n",
    "        return X.dot(self.weights) + self.bias\n",
    "\n",
    "    def _apply_step_func(self, x):\n",
    "        \"\"\" Turns data into binary; if the data (x) is on or above \n",
    "        the line return class 1, it's below the line return class 0. \n",
    "        \"\"\"\n",
    "        return np.where(x>=0, 1, 0)"
   ]
  },
  {
   "cell_type": "code",
   "execution_count": 107,
   "id": "69bf2e13",
   "metadata": {},
   "outputs": [],
   "source": [
    "# Arbitrary function to split the toy data into separate classes\n",
    "\n",
    "def stepFunction(x):\n",
    "    return 1 * x + 3\n",
    "\n",
    "# Generate random 2D coordinates\n",
    "coords = np.random.rand(100, 2) * 10\n",
    "Y = (stepFunction(coords[:, 0]) > coords[:, 1]).astype(int)"
   ]
  },
  {
   "cell_type": "code",
   "execution_count": 108,
   "id": "37760e62",
   "metadata": {},
   "outputs": [
    {
     "data": {
      "text/plain": [
       "(array([ 0.00626716, -0.0057352 ]), 0.015499999999999984)"
      ]
     },
     "execution_count": 108,
     "metadata": {},
     "output_type": "execute_result"
    }
   ],
   "source": [
    "p = Perceptron()\n",
    "p.fit(coords, Y)\n",
    "p.weights, p.bias"
   ]
  },
  {
   "cell_type": "code",
   "execution_count": 113,
   "id": "b6ab8e19",
   "metadata": {},
   "outputs": [
    {
     "data": {
      "text/plain": [
       "[<matplotlib.lines.Line2D at 0x121e60a5d30>]"
      ]
     },
     "execution_count": 113,
     "metadata": {},
     "output_type": "execute_result"
    },
    {
     "data": {
      "image/png": "[encoded data removed]",
      "text/plain": [
       "<Figure size 432x288 with 1 Axes>"
      ]
     },
     "metadata": {
      "needs_background": "light"
     },
     "output_type": "display_data"
    }
   ],
   "source": [
    "plt.scatter(*coords.T, c=Y)\n",
    "\n",
    "m = -p.weights[0]/p.weights[1]\n",
    "c = -p.bias/p.weights[1]\n",
    "\n",
    "x=np.linspace(0, coords[:,0].max(), 50)\n",
    "\n",
    "y = m * x + c\n",
    "\n",
    "x = x[y <= coords[:,1].max()]\n",
    "y = y[y <= coords[:,1].max()]\n",
    "\n",
    "plt.plot(x,y)"
   ]
  },
  {
   "cell_type": "code",
   "execution_count": null,
   "id": "08674b1a",
   "metadata": {},
   "outputs": [],
   "source": []
  }
 ],
 "metadata": {
  "kernelspec": {
   "display_name": "Python 3",
   "language": "python",
   "name": "python3"
  },
  "language_info": {
   "codemirror_mode": {
    "name": "ipython",
    "version": 3
   },
   "file_extension": ".py",
   "mimetype": "text/x-python",
   "name": "python",
   "nbconvert_exporter": "python",
   "pygments_lexer": "ipython3",
   "version": "3.8.8"
  }
 },
 "nbformat": 4,
 "nbformat_minor": 5
}
